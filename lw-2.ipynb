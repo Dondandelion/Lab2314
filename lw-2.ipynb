{
 "cells": [
  {
   "metadata": {},
   "cell_type": "markdown",
   "source": [
    "# Лабораторная №2"
   ],
   "id": "9e9f885ad1cd3def"
  },
  {
   "metadata": {},
   "cell_type": "markdown",
   "source": [
    "## Условия, циклы, функции"
   ],
   "id": "425707c53189a3f4"
  },
  {
   "metadata": {},
   "cell_type": "markdown",
   "source": [
    "\n",
    "Нам дали задачу проверить, является ли участок земли квадратным. В переменных `length` и `width` заданы значения длины и ширины участка. Необходимо проверить, является ли он квадратным. Сохраните в переменную `result` значение `True`, если участок квадратный, и `False` — если нет."
   ],
   "id": "2a4a09414a32a3d5"
  },
  {
   "cell_type": "code",
   "id": "initial_id",
   "metadata": {
    "collapsed": true,
    "ExecuteTime": {
     "end_time": "2024-12-09T11:59:00.117606Z",
     "start_time": "2024-12-09T11:59:00.114166Z"
    }
   },
   "source": [
    "length = 121\n",
    "width = 100\n",
    "result = length == width\n",
    "print(result)  # False\n",
    "\n",
    "#Пример 2\n",
    "length = 10\n",
    "width = 10\n",
    "result = length == width\n",
    "print(result)  # True"
   ],
   "outputs": [],
   "execution_count": null
  },
  {
   "metadata": {},
   "cell_type": "markdown",
   "source": [
    "Условия выплаты премий сотрудникам зависят от их стажа работы и определяются следующим образом:\n",
    "\n",
    "- Если стаж работы сотрудника **меньше 3 лет**, премия отсутствует (равна 0).\n",
    "- Если стаж работы сотрудника **от 3 до 6 лет (включительно)**, премия составляет **2 оклада**.\n",
    "- Если стаж работы сотрудника **от 7 до 15 лет (включительно)**, премия составляет **5 окладов**.\n",
    "- Если стаж работы сотрудника **больше 15 лет**, премия составляет **10 окладов**.\n",
    "\n",
    "Значение заработной платы сотрудника хранится в переменной `salary`, стаж работы — в переменной `work_experience`. Требуется вычислить размер премии и сохранить результат в переменной `result`."
   ],
   "id": "83b5067e4a0fa617"
  },
  {
   "metadata": {
    "ExecuteTime": {
     "end_time": "2024-12-09T12:03:56.260649Z",
     "start_time": "2024-12-09T12:03:56.257743Z"
    }
   },
   "cell_type": "code",
   "source": [
    "salary = 150000\n",
    "work_experience = 3\n",
    "\n",
    "if work_experience < 3:\n",
    "    result = 0\n",
    "elif 3 <= work_experience <= 6:\n",
    "    result = salary * 2\n",
    "elif 7 <= work_experience <= 15:\n",
    "    result = salary * 5\n",
    "else:\n",
    "    result = salary * 10\n",
    "    \n",
    "print(result)  # 300000"
   ],
   "id": "4947ebf0ab3ebbd8",
   "outputs": [],
   "execution_count": null
  },
  {
   "metadata": {},
   "cell_type": "markdown",
   "source": [
    "Есть словарь `sales`, содержащий информацию о продуктах и их ценах в магазине. В список `affordable_products` нужно сохранить названия всех продуктов, которые стоят меньше или равны 500."
   ],
   "id": "1a47c0bb8604d85e"
  },
  {
   "metadata": {
    "ExecuteTime": {
     "end_time": "2024-12-09T12:07:09.133555Z",
     "start_time": "2024-12-09T12:07:09.130844Z"
    }
   },
   "cell_type": "code",
   "source": [
    "sales = {\n",
    "    \"laptop\": 700,\n",
    "    \"smartphone\": 100,\n",
    "    \"headphones\": 50,\n",
    "    \"mouse\": 20,\n",
    "    \"keyboard\": 40\n",
    "}\n",
    "\n",
    "affordable_products = [product for product, price in sales.items() if price <= 500]\n",
    "print(affordable_products)  # ['smartphone', 'headphones', 'mouse', 'keyboard']"
   ],
   "id": "d4fee48cb2dabcf5",
   "outputs": [],
   "execution_count": null
  },
  {
   "metadata": {},
   "cell_type": "markdown",
   "source": [
    "Напишите программу, принимающую в виде аргументов два списка `lst_1` и `lst_2` и определяющую, являются ли они противоположными друг другу. Результат проверки сохраните в result в формате True или False.\n",
    "\n",
    "Каждая пара списков будет состоять из одинаковых элементов (типа a и b). Список считается анти-списком, если все элементы в нем противоположны соответствующим элементам в первом списке.\n"
   ],
   "id": "68ac8bcb0e04fdc5"
  },
  {
   "metadata": {
    "ExecuteTime": {
     "end_time": "2024-12-09T12:10:09.592660Z",
     "start_time": "2024-12-09T12:10:09.589368Z"
    }
   },
   "cell_type": "code",
   "source": [
    "def are_opposite(lst1, lst2):\n",
    "    return all(x != y for x, y in zip(lst1, lst2))\n",
    "\n",
    "lst_1 = [\"1\", \"0\", \"0\", \"1\"]\n",
    "lst_2 = [\"0\", \"1\", \"1\", \"0\"]\n",
    "result = are_opposite(lst_1, lst_2)\n",
    "print(result)  # True\n",
    "\n",
    "lst_1 = [3, 4]\n",
    "lst_2 = [4, 3]\n",
    "result = are_opposite(lst_1, lst_2)\n",
    "print(result)  # True\n",
    "\n",
    "lst_1 = [1, 1]\n",
    "lst_2 = [2, 2]\n",
    "result = are_opposite(lst_1, lst_2)\n",
    "print(result)  # False"
   ],
   "id": "c247de3ee5a9e60a",
   "outputs": [],
   "execution_count": null
  },
  {
   "metadata": {},
   "cell_type": "markdown",
   "source": [
    "Задана переменная `m` — список из списков одинаковой длины. Проверьте, что суммы элементов на диагоналях равны.\n",
    "\n",
    "Результат проверки сохраните в `result` в формате True или False."
   ],
   "id": "e6c61ed00e1f78e7"
  },
  {
   "metadata": {
    "ExecuteTime": {
     "end_time": "2024-12-09T22:13:25.877832Z",
     "start_time": "2024-12-09T22:13:25.865474Z"
    }
   },
   "cell_type": "code",
   "source": [
    "def diagonal_sums_equal(matrix):\n",
    "    n = len(matrix)\n",
    "    main_diag = sum(matrix[i][i] for i in range(n))\n",
    "    anti_diag = sum(matrix[i][n-1-i] for i in range(n))\n",
    "    return main_diag == anti_diag\n",
    "\n",
    "# Пример 1\n",
    "m = [[1, 23, 4],\n",
    "     [3, 2, 1],\n",
    "     [6, 3, 4]]\n",
    "result = diagonal_sums_equal(m)\n",
    "print(result)  # False\n",
    "\n",
    "# Пример 2\n",
    "m = [[1, 23, 4],\n",
    "     [3, 2, 1],\n",
    "     [1, 3, 4]]\n",
    "result = diagonal_sums_equal(m)\n",
    "print(result)  # True"
   ],
   "id": "52f6aa07b6b69e8",
   "outputs": [],
   "execution_count": null
  },
  {
   "metadata": {},
   "cell_type": "markdown",
   "source": [
    "Дан список кортежей `input_list`. Отсортируйте `input_list` по 2 элементу кортежа в порядке убывания. Отфильтруйте список так, чтобы остались только те элементы, второе значение в кортеже у которых кратно 5.\n",
    "\n",
    "Результат сохраните в `result`.\n",
    "\n",
    "Для решения задачи используйте lambda-функцию."
   ],
   "id": "32734e2d177c9fa"
  },
  {
   "metadata": {
    "ExecuteTime": {
     "end_time": "2024-12-09T22:14:35.143038Z",
     "start_time": "2024-12-09T22:14:35.135629Z"
    }
   },
   "cell_type": "code",
   "source": [
    "input_list = [('Anna', 13), ('Ivan', 20), ('Irina', 23), ('Olga', 25),\n",
    "              ('Ivan', 30), ('Oleg', 24), ('Olga', 26)]\n",
    "\n",
    "# Сортировка по второму элементу в убывающем порядке\n",
    "sorted_list = sorted(input_list, key=lambda x: x[1], reverse=True)\n",
    "# Фильтрация по кратности 5\n",
    "result = list(filter(lambda x: x[1] % 5 == 0, sorted_list))\n",
    "\n",
    "print(result)  # [('Ivan', 30), ('Olga', 25), ('Ivan', 20)]"
   ],
   "id": "54ca7285b6d4f539",
   "outputs": [],
   "execution_count": null
  },
  {
   "metadata": {},
   "cell_type": "markdown",
   "source": [
    "Гипотеза Коллатца: какое бы начальное натуральное число n мы ни взяли, рано или поздно мы получим единицу, если выполняем следующие преобразования:\n",
    "\n",
    "- Если n чётное, то делим его на 2;\n",
    "- Если n нечётное, то умножаем на 3 и прибавляем 1 (получаем 3n + 1).\n",
    "Напишите функцию `def collatz_conjecture()`, которая будет принимать натуральное число n и возвращать последовательность чисел, полученных указанными выше преобразованиями."
   ],
   "id": "d7f53fd342d1cd0f"
  },
  {
   "metadata": {
    "ExecuteTime": {
     "end_time": "2024-12-09T22:15:55.028720Z",
     "start_time": "2024-12-09T22:15:55.023155Z"
    }
   },
   "cell_type": "code",
   "source": [
    "def collatz_conjecture(n):\n",
    "    sequence = [n]\n",
    "    while n != 1:\n",
    "        if n % 2 == 0:\n",
    "            n = n // 2\n",
    "        else:\n",
    "            n = 3 * n + 1\n",
    "        sequence.append(n)\n",
    "    return sequence\n",
    "\n",
    "print(collatz_conjecture(8))  # [8, 4, 2, 1]\n",
    "print(collatz_conjecture(3))  # [3, 10, 5, 16, 8, 4, 2, 1]"
   ],
   "id": "a11c1692c9761fa4",
   "outputs": [],
   "execution_count": null
  }
 ],
 "metadata": {
  "kernelspec": {
   "display_name": "Python 3",
   "language": "python",
   "name": "python3"
  },
  "language_info": {
   "codemirror_mode": {
    "name": "ipython",
    "version": 3
   },
   "file_extension": ".py",
   "mimetype": "text/x-python",
   "name": "python",
   "nbconvert_exporter": "python",
   "pygments_lexer": "ipython3",
   "version": "3.8.5"
  }
 },
 "nbformat": 4,
 "nbformat_minor": 5
}