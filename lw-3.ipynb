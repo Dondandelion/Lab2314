{
 "cells": [
  {
   "cell_type": "markdown",
   "id": "d8313464",
   "metadata": {},
   "source": [
    "# Лабораторная №3"
   ]
  },
  {
   "cell_type": "markdown",
   "id": "23bb78c2",
   "metadata": {},
   "source": [
    "## Регулярные выражения"
   ]
  },
  {
   "cell_type": "markdown",
   "id": "3c102a21",
   "metadata": {},
   "source": [
    "В нашем магазине все товарные коды всегда имеют формат \"B123\", где \"B\" — это буква, а \"123\" — цифры. Напишите программу, которая проверяет, соответствует ли товарный код этому формату."
   ]
  },
  {
   "cell_type": "code",
   "execution_count": null,
   "id": "29ccf910",
   "metadata": {},
   "outputs": [],
   "source": [
    "import re\n",
    "\n",
    "def check_product_code(code):\n",
    "    pattern = r\"^[A-Za-z]\\d{3}$\"\n",
    "    if re.match(pattern, code):\n",
    "        return True\n",
    "    else:\n",
    "        return False\n",
    "\n",
    "product_code = \"B152\"\n",
    "result = check_product_code(product_code)\n",
    "print(result)  # True"
   ]
  },
  {
   "cell_type": "markdown",
   "id": "6a788468",
   "metadata": {},
   "source": [
    "Нам часто поступает список книг в виде строки, где данные о каждой книге разделены пробелами или запятыми. Напишите программу, которая будет извлекать информацию о каждой книге (название, автор, год издания) и выводить их по категориям."
   ]
  },
  {
   "cell_type": "code",
   "execution_count": null,
   "id": "1ab3c523",
   "metadata": {},
   "outputs": [],
   "source": [
    "def extract_book_info(data):\n",
    "    parts = data.split(\",\")\n",
    "    titles = []\n",
    "    authors = []\n",
    "    years = []\n",
    "    \n",
    "    for i in range(0, len(parts), 3):\n",
    "        titles.append(parts[i])\n",
    "        authors.append(parts[i+1])\n",
    "        years.append(parts[i+2])\n",
    "    \n",
    "    return titles, authors, years\n",
    "\n",
    "data = \"The Great Gatsby,F. Scott Fitzgerald,1925,1984,George Orwell,1949,To Kill a Mockingbird,Harper Lee,1960\"\n",
    "titles, authors, years = extract_book_info(data)\n",
    "\n",
    "print(\"Titles:\", titles)\n",
    "print(\"Authors:\", authors)\n",
    "print(\"Years:\", years)"
   ]
  },
  {
   "cell_type": "markdown",
   "id": "d815d7a3",
   "metadata": {},
   "source": [
    "Проверка, соответствует ли email правильному формату."
   ]
  },
  {
   "cell_type": "code",
   "execution_count": null,
   "id": "b1ce518a",
   "metadata": {},
   "outputs": [],
   "source": [
    "import re\n",
    "\n",
    "def check_email_format(email):\n",
    "    pattern = r\"^[a-zA-Z0-9._-]+@[a-zA-Z0-9.-]+\\.[a-zA-Z]{2,}$\"\n",
    "    if re.match(pattern, email):\n",
    "        return True\n",
    "    else:\n",
    "        return False\n",
    "\n",
    "email = \"owner@example.com\"\n",
    "result = check_email_format(email)\n",
    "print(result)  # True"
   ]
  },
  {
   "cell_type": "markdown",
   "id": "a813ce5f",
   "metadata": {},
   "source": [
    "Проверка, содержит ли строка упоминания о пищевых ограничениях: глютен, лактоза, орехи."
   ]
  },
  {
   "cell_type": "code",
   "execution_count": null,
   "id": "60c52743",
   "metadata": {},
   "outputs": [],
   "source": [
    "import re\n",
    "\n",
    "def check_restrictions(data):\n",
    "    pattern = r\"\\b(gluten|лактоза|lactose|nuts|орехи)\\b\"\n",
    "    if re.search(pattern, data, re.IGNORECASE):\n",
    "        return True\n",
    "    else:\n",
    "        return False\n",
    "\n",
    "client_data = \"My diet excludes products containing lactose and gluten.\"\n",
    "if check_restrictions(client_data):\n",
    "    print(\"Dietary restrictions detected.\")\n",
    "else:\n",
    "    print(\"No dietary restrictions detected.\")"
   ]
  },
  {
   "cell_type": "markdown",
   "id": "98904b8c",
   "metadata": {},
   "source": [
    "Поиск номеров телефонов в разных форматах."
   ]
  },
  {
   "cell_type": "code",
   "execution_count": null,
   "id": "b3690496",
   "metadata": {},
   "outputs": [],
   "source": [
    "import re\n",
    "\n",
    "def extract_phone_numbers(text):\n",
    "    pattern = r\"\\(?\\d{3}\\)?[\\s.-]?\\d{3}[\\s.-]\\d{4}\"\n",
    "    phones = re.findall(pattern, text)\n",
    "    return phones\n",
    "\n",
    "text = \"Hi, here are some phone numbers: (123) 456-7890, 987-654-3210, 555.555.5555, 111 222 3333.\"\n",
    "print(extract_phone_numbers(text))"
   ]
  }
 ],
 "metadata": {
  "language_info": {
   "name": "python"
  }
 },
 "nbformat": 4,
 "nbformat_minor": 5
}
